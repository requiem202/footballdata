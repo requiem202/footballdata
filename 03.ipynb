{
 "cells": [
  {
   "cell_type": "code",
   "execution_count": 134,
   "metadata": {},
   "outputs": [],
   "source": [
    "import os\n",
    "import numpy as np\n",
    "import pandas as pd\n",
    "from sklearn.tree import DecisionTreeClassifier\n",
    "from sklearn.ensemble import RandomForestClassifier\n",
    "from sklearn.metrics import accuracy_score\n",
    "from sklearn import tree\n",
    "from subprocess import call\n",
    "\n",
    "league = 'spanish'\n",
    "\n",
    "df = None\n",
    "files = os.listdir(f'fulldata/{league}')\n",
    "files.sort()\n",
    "for file in files:\n",
    "    year = int(file.strip('.csv'))\n",
    "    df_year = pd.read_csv(f'fulldata/{league}/' + file\n",
    "                          # skiprows=1,\n",
    "                          # index_col=None,\n",
    "                          # names=['Div', 'Date', 'HomeTeam', 'AwayTeam', 'FTHG', 'FTAG', 'FTR', 'HTHG', 'HTAG', 'HTR', 'Referee', 'HS', 'AS', 'HST', 'AST', 'HF', 'AF', 'HC', 'AC', 'HY', 'AY', 'HR', 'AR', 'B365H', 'B365D', 'B365A']\n",
    "                          )\n",
    "    df_year.reset_index(drop=True, inplace=True)\n",
    "    df_year['Year'] = year\n",
    "    df_year['Match'] = df_year.index + 1\n",
    "\n",
    "    if df is None:\n",
    "        df = df_year\n",
    "    else:\n",
    "        df = df.append(df_year, ignore_index=True, sort=False)\n",
    "\n",
    "# print(len(df))\n",
    "# print(df.shape)\n",
    "\n",
    "# remove unused columns\n",
    "df_league = None\n",
    "df.reset_index(inplace=True)\n",
    "# df = df[['Year', 'Date', 'HomeTeam', 'AwayTeam', 'FTHG', 'FTAG', 'FTR', 'HTHG', 'HTAG', 'HTR', 'HS', 'AS', 'HST', 'AST', 'HF', 'AF', 'HC', 'AC', 'HY', 'AY', 'HR', 'AR',\n",
    "#          \"B365H\", \"B365D\", \"B365A\"]]\n",
    "\n",
    "predict_year = 2015\n",
    "train_year = 2011\n",
    "teams = ['Ath Madrid']\n",
    "# teams = np.unique(df.loc[df['Year'] == predict_year, 'HomeTeam'].values)\n",
    "teams.sort()\n",
    "for team in teams:\n",
    "\n",
    "    df_team = df[(df['HomeTeam'] == team) | (df['AwayTeam'] == team)]\n",
    "    X = pd.DataFrame(\n",
    "        data={\n",
    "            'Year': df_team['Year'],\n",
    "            'Date': df_team['Date'],\n",
    "            'Team': team,\n",
    "            'HomeMatch': df_team['HomeTeam'] == team\n",
    "        }\n",
    "    )\n",
    "    X['Opponent'] = np.where(X['HomeMatch'], df_team['AwayTeam'], df_team['HomeTeam'])\n",
    "    # X['HalfTimeGoals'] = np.where(X['HomeMatch'], df_team['HTHG'], df_team['HTAG'])\n",
    "    # X['HalfTimeOpponentGoals'] = np.where(X['HomeMatch'], df_team['HTAG'], df_team['HTHG'])\n",
    "    # X['HalfTimeLead'] = X['HalfTimeGoals'] > X['HalfTimeOpponentGoals']\n",
    "    # X['HalfTimeLeadMoreThanTwo'] = (X['HalfTimeGoals'] - X['HalfTimeOpponentGoals']) > 2\n",
    "    # X['FullTimeGoals'] = np.where(X['HomeMatch'], ath_madrid['FTHG'], ath_madrid['FTAG'])\n",
    "    # X['FullTimeOpponentGoals'] = np.where(X['HomeMatch'], ath_madrid['FTAG'], ath_madrid['FTHG'])\n",
    "    X['FTR'] = df_team['FTR']\n",
    "    X['Won'] = np.where(X['HomeMatch'], df_team['FTR'] == 'H', df_team['FTR'] == 'A')\n",
    "    X['Draw'] = df_team['FTR'] == 'D'\n",
    "    X['Lost'] = np.where(X['HomeMatch'], df_team['FTR'] == 'A', df_team['FTR'] == 'H')\n",
    "    X['Result'] = np.where(X['Won'], 'Win', (np.where(X['Lost'], 'Lose', 'Draw')))\n",
    "    # X['SumGoals'] = X.groupby('Opponent')['FullTimeGoals'].transform(sum)\n",
    "    #     X['B365Max'] = np.maximum(np.maximum(df_team['B365H'], df_team['B365A']), df_team['B365D'])\n",
    "    #     X['B365Say'] = np.where(X['HomeMatch'],\n",
    "    #                             # home match\n",
    "    #                             np.where(X['B365Max'] == df_team['B365H'], -1,\n",
    "    #                                      np.where(X['B365Max'] == df_team['B365A'], 1,\n",
    "    #                                               0)),\n",
    "    #                             # away match\n",
    "    #                             np.where(X['B365Max'] == df_team['B365H'], 1,\n",
    "    #                                      np.where(X['B365Max'] == df_team['B365A'], -1,\n",
    "    #                                               0))\n",
    "    #                             )\n",
    "\n",
    "    # find number of times won against this opponent in last 5 meetings\n",
    "    for key, groupByOpponent in X.groupby('Opponent'):\n",
    "        # keep index as new a column, will be restored and assigned back to X later\n",
    "        idx = groupByOpponent.index\n",
    "\n",
    "        # make match day an index because rolling need an index date\n",
    "        xx = groupByOpponent.set_index('Date')\n",
    "        xx['idx'] = idx\n",
    "\n",
    "        # shift to exclude self\n",
    "        xx['Last5AgainstThisOpponentWon'] = xx['Won'].rolling(6).apply(lambda x: np.nansum(x.shift()), raw=False)\n",
    "        xx['Last5AgainstThisOpponentDraw'] = xx['Draw'].rolling(6).apply(lambda x: np.nansum(x.shift()), raw=False)\n",
    "\n",
    "        xx['Last3AgainstThisOpponentWon'] = xx['Won'].rolling(4).apply(lambda x: np.nansum(x.shift()), raw=False)\n",
    "        xx['Last3AgainstThisOpponentDraw'] = xx['Draw'].rolling(4).apply(lambda x: np.nansum(x.shift()), raw=False)\n",
    "\n",
    "        xx['LastAgainstThisOpponentWon'] = xx['Won'].rolling(2).apply(lambda x: np.nansum(x.shift()), raw=False)\n",
    "        xx['LastAgainstThisOpponentDraw'] = xx['Draw'].rolling(2).apply(lambda x: np.nansum(x.shift()), raw=False)\n",
    "\n",
    "        # restore index\n",
    "        xx = xx.set_index('idx')\n",
    "\n",
    "        # assign back to the big dataframe\n",
    "        X.loc[xx.index, 'Last5AgainstThisOpponentWon'] = xx['Last5AgainstThisOpponentWon']\n",
    "        X.loc[xx.index, 'Last5AgainstThisOpponentDraw'] = xx['Last5AgainstThisOpponentDraw']\n",
    "        X.loc[xx.index, 'Last3AgainstThisOpponentWon'] = xx['Last3AgainstThisOpponentWon']\n",
    "        X.loc[xx.index, 'Last3AgainstThisOpponentDraw'] = xx['Last3AgainstThisOpponentDraw']\n",
    "        X.loc[xx.index, 'LastAgainstThisOpponentWon'] = xx['LastAgainstThisOpponentWon']\n",
    "        X.loc[xx.index, 'LastAgainstThisOpponentDraw'] = xx['LastAgainstThisOpponentDraw']\n",
    "\n",
    "    # find recent forms\n",
    "    idx = X.index\n",
    "    xx = X.set_index('Date')\n",
    "    xx['idx'] = idx\n",
    "    xx['Last5Won'] = xx['Won'].rolling(6).apply(lambda x: np.nansum(x.shift()), raw=False)\n",
    "    xx['Last5Draw'] = xx['Draw'].rolling(6).apply(lambda x: np.nansum(x.shift()), raw=False)\n",
    "    xx['Last3Won'] = xx['Won'].rolling(4).apply(lambda x: np.nansum(x.shift()), raw=False)\n",
    "    xx['Last3Draw'] = xx['Draw'].rolling(4).apply(lambda x: np.nansum(x.shift()), raw=False)\n",
    "    xx['LastWon'] = xx['Won'].rolling(2).apply(lambda x: np.nansum(x.shift()), raw=False)\n",
    "    xx['LastDraw'] = xx['Draw'].rolling(2).apply(lambda x: np.nansum(x.shift()), raw=False)\n",
    "    xx['LastMatch'] = np.where(xx['LastWon'] == 1, 1, np.where(xx['LastDraw'] == 1, 0, -1))\n",
    "    # restore index\n",
    "    xx = xx.set_index('idx')\n",
    "\n",
    "    # assign back to the big dataframe\n",
    "    X.loc[xx.index, 'Last5Won'] = xx['Last5Won']\n",
    "    X.loc[xx.index, 'Last5Draw'] = xx['Last5Draw']\n",
    "    X.loc[xx.index, 'Last3Won'] = xx['Last3Won']\n",
    "    X.loc[xx.index, 'Last3Draw'] = xx['Last3Draw']\n",
    "    X.loc[xx.index, 'LastWon'] = xx['LastWon']\n",
    "    X.loc[xx.index, 'LastDraw'] = xx['LastDraw']\n",
    "    X.loc[xx.index, 'LastMatch'] = xx['LastMatch']\n",
    "\n",
    "    # replace nan with 0\n",
    "    # TODO: better way to handle nan\n",
    "    X.loc[np.isnan(X['Last5AgainstThisOpponentWon']), 'Last5AgainstThisOpponentWon'] = 0\n",
    "    X.loc[np.isnan(X['Last5AgainstThisOpponentDraw']), 'Last5AgainstThisOpponentDraw'] = 0\n",
    "    X.loc[np.isnan(X['Last3AgainstThisOpponentWon']), 'Last3AgainstThisOpponentWon'] = 0\n",
    "    X.loc[np.isnan(X['Last3AgainstThisOpponentDraw']), 'Last3AgainstThisOpponentDraw'] = 0\n",
    "    X.loc[np.isnan(X['LastAgainstThisOpponentWon']), 'LastAgainstThisOpponentWon'] = 0\n",
    "    X.loc[np.isnan(X['LastAgainstThisOpponentDraw']), 'LastAgainstThisOpponentDraw'] = 0\n",
    "    #     X.loc[np.isnan(X['Last5Won']), 'Last5Won'] = 0\n",
    "    #     X.loc[np.isnan(X['Last5Draw']), 'Last5Draw'] = 0\n",
    "    #     X.loc[np.isnan(X['Last3Won']), 'Last3Won'] = 0\n",
    "    #     X.loc[np.isnan(X['Last3Draw']), 'Last3Draw'] = 0\n",
    "    #     X.loc[np.isnan(X['LastWon']), 'LastWon'] = 0\n",
    "    #     X.loc[np.isnan(X['LastDraw']), 'LastDraw'] = 0\n",
    "\n",
    "    # restrict training data (too old data may not be irrelevance)\n",
    "    X = X.loc[X['Year'] >= train_year]\n",
    "    Y = X[['Opponent', 'Result']]\n",
    "\n",
    "    # remove duplicate features\n",
    "    del X['LastWon']\n",
    "    del X['LastDraw']\n",
    "\n",
    "    # prevent future leaks\n",
    "    result = pd.DataFrame(X['Result'])\n",
    "    del X['Result']\n",
    "    del X['Lost']\n",
    "    del X['Draw']\n",
    "    del X['Won']\n",
    "    del X['FTR']\n",
    "    del X['Date']\n",
    "    #     del X['B365Max']\n",
    "\n",
    "    # split data into train - test sets\n",
    "    x_train = X[(X['Year'] < predict_year)]\n",
    "    y_train = Y[(X['Year'] < predict_year)]\n",
    "    x_test = X[(X['Year'] >= predict_year)]\n",
    "    y_test = Y[(X['Year'] >= predict_year)]\n",
    "\n",
    "    # split prediction by opponent\n",
    "    # construct decision tree\n",
    "    x_train_opponents = x_train.groupby('Opponent')\n",
    "    y_train_opponents = y_train.groupby('Opponent')\n",
    "    x_test_opponents = x_test.groupby('Opponent')\n",
    "    y_test_opponents = y_test.groupby('Opponent')\n",
    "    #     x_test_teams = X_test_opponents.groups.keys()\n",
    "    x_test_teams = ['Villarreal']\n",
    "#     X['Predict'] = ''\n",
    "    #     os.makedirs(f'decision_tree/{league}/{predict_year}/{team}/', exist_ok=True)\n",
    "    #     for key, x_train_opponent in x_train_opponents:\n",
    "    for key in x_test_teams:\n",
    "        #         if key not in x_test_teams:\n",
    "        #             continue\n",
    "        x_train_opponent = x_train_opponents.get_group(key)\n",
    "        x_test_opponent = x_test_opponents.get_group(key)\n",
    "        y_train_opponent = y_train_opponents.get_group(key)\n",
    "        y_test_opponent = y_test_opponents.get_group(key)\n",
    "\n",
    "        del y_train_opponent['Opponent']\n",
    "        del y_test_opponent['Opponent']\n",
    "        del x_train_opponent['Opponent']\n",
    "        del x_test_opponent['Opponent']\n",
    "        del x_train_opponent['Year']\n",
    "        del x_test_opponent['Year']\n",
    "        del x_train_opponent['Team']\n",
    "        del x_test_opponent['Team']\n",
    "\n",
    "#         clf = DecisionTreeClassifier(\n",
    "#             criterion=\"entropy\",\n",
    "#             random_state=100,\n",
    "#             min_samples_leaf=3\n",
    "#         )\n",
    "#         clf.fit(x_train_opponent, y_train_opponent)\n"
   ]
  },
  {
   "cell_type": "code",
   "execution_count": 135,
   "metadata": {
    "scrolled": false
   },
   "outputs": [
    {
     "data": {
      "text/html": [
       "<div>\n",
       "<style scoped>\n",
       "    .dataframe tbody tr th:only-of-type {\n",
       "        vertical-align: middle;\n",
       "    }\n",
       "\n",
       "    .dataframe tbody tr th {\n",
       "        vertical-align: top;\n",
       "    }\n",
       "\n",
       "    .dataframe thead th {\n",
       "        text-align: right;\n",
       "    }\n",
       "</style>\n",
       "<table border=\"1\" class=\"dataframe\">\n",
       "  <thead>\n",
       "    <tr style=\"text-align: right;\">\n",
       "      <th></th>\n",
       "      <th>HomeMatch</th>\n",
       "      <th>Last5AgainstThisOpponentWon</th>\n",
       "      <th>Last5AgainstThisOpponentDraw</th>\n",
       "      <th>Last3AgainstThisOpponentWon</th>\n",
       "      <th>Last3AgainstThisOpponentDraw</th>\n",
       "      <th>LastAgainstThisOpponentWon</th>\n",
       "      <th>LastAgainstThisOpponentDraw</th>\n",
       "      <th>Last5Won</th>\n",
       "      <th>Last5Draw</th>\n",
       "      <th>Last3Won</th>\n",
       "      <th>Last3Draw</th>\n",
       "      <th>LastMatch</th>\n",
       "    </tr>\n",
       "  </thead>\n",
       "  <tbody>\n",
       "    <tr>\n",
       "      <th>2456</th>\n",
       "      <td>True</td>\n",
       "      <td>2.0</td>\n",
       "      <td>0.0</td>\n",
       "      <td>1.0</td>\n",
       "      <td>0.0</td>\n",
       "      <td>1.0</td>\n",
       "      <td>0.0</td>\n",
       "      <td>1.0</td>\n",
       "      <td>1.0</td>\n",
       "      <td>0.0</td>\n",
       "      <td>1.0</td>\n",
       "      <td>0</td>\n",
       "    </tr>\n",
       "    <tr>\n",
       "      <th>2659</th>\n",
       "      <td>False</td>\n",
       "      <td>2.0</td>\n",
       "      <td>0.0</td>\n",
       "      <td>2.0</td>\n",
       "      <td>0.0</td>\n",
       "      <td>1.0</td>\n",
       "      <td>0.0</td>\n",
       "      <td>3.0</td>\n",
       "      <td>2.0</td>\n",
       "      <td>1.0</td>\n",
       "      <td>2.0</td>\n",
       "      <td>1</td>\n",
       "    </tr>\n",
       "    <tr>\n",
       "      <th>3169</th>\n",
       "      <td>False</td>\n",
       "      <td>3.0</td>\n",
       "      <td>0.0</td>\n",
       "      <td>3.0</td>\n",
       "      <td>0.0</td>\n",
       "      <td>1.0</td>\n",
       "      <td>0.0</td>\n",
       "      <td>4.0</td>\n",
       "      <td>0.0</td>\n",
       "      <td>3.0</td>\n",
       "      <td>0.0</td>\n",
       "      <td>1</td>\n",
       "    </tr>\n",
       "    <tr>\n",
       "      <th>3351</th>\n",
       "      <td>True</td>\n",
       "      <td>3.0</td>\n",
       "      <td>1.0</td>\n",
       "      <td>2.0</td>\n",
       "      <td>1.0</td>\n",
       "      <td>0.0</td>\n",
       "      <td>1.0</td>\n",
       "      <td>5.0</td>\n",
       "      <td>0.0</td>\n",
       "      <td>3.0</td>\n",
       "      <td>0.0</td>\n",
       "      <td>1</td>\n",
       "    </tr>\n",
       "    <tr>\n",
       "      <th>3565</th>\n",
       "      <td>True</td>\n",
       "      <td>4.0</td>\n",
       "      <td>1.0</td>\n",
       "      <td>2.0</td>\n",
       "      <td>1.0</td>\n",
       "      <td>1.0</td>\n",
       "      <td>0.0</td>\n",
       "      <td>4.0</td>\n",
       "      <td>0.0</td>\n",
       "      <td>3.0</td>\n",
       "      <td>0.0</td>\n",
       "      <td>1</td>\n",
       "    </tr>\n",
       "    <tr>\n",
       "      <th>3757</th>\n",
       "      <td>False</td>\n",
       "      <td>3.0</td>\n",
       "      <td>1.0</td>\n",
       "      <td>1.0</td>\n",
       "      <td>1.0</td>\n",
       "      <td>0.0</td>\n",
       "      <td>0.0</td>\n",
       "      <td>4.0</td>\n",
       "      <td>1.0</td>\n",
       "      <td>2.0</td>\n",
       "      <td>1.0</td>\n",
       "      <td>1</td>\n",
       "    </tr>\n",
       "  </tbody>\n",
       "</table>\n",
       "</div>"
      ],
      "text/plain": [
       "      HomeMatch  Last5AgainstThisOpponentWon  Last5AgainstThisOpponentDraw  \\\n",
       "2456       True                          2.0                           0.0   \n",
       "2659      False                          2.0                           0.0   \n",
       "3169      False                          3.0                           0.0   \n",
       "3351       True                          3.0                           1.0   \n",
       "3565       True                          4.0                           1.0   \n",
       "3757      False                          3.0                           1.0   \n",
       "\n",
       "      Last3AgainstThisOpponentWon  Last3AgainstThisOpponentDraw  \\\n",
       "2456                          1.0                           0.0   \n",
       "2659                          2.0                           0.0   \n",
       "3169                          3.0                           0.0   \n",
       "3351                          2.0                           1.0   \n",
       "3565                          2.0                           1.0   \n",
       "3757                          1.0                           1.0   \n",
       "\n",
       "      LastAgainstThisOpponentWon  LastAgainstThisOpponentDraw  Last5Won  \\\n",
       "2456                         1.0                          0.0       1.0   \n",
       "2659                         1.0                          0.0       3.0   \n",
       "3169                         1.0                          0.0       4.0   \n",
       "3351                         0.0                          1.0       5.0   \n",
       "3565                         1.0                          0.0       4.0   \n",
       "3757                         0.0                          0.0       4.0   \n",
       "\n",
       "      Last5Draw  Last3Won  Last3Draw  LastMatch  \n",
       "2456        1.0       0.0        1.0          0  \n",
       "2659        2.0       1.0        2.0          1  \n",
       "3169        0.0       3.0        0.0          1  \n",
       "3351        0.0       3.0        0.0          1  \n",
       "3565        0.0       3.0        0.0          1  \n",
       "3757        1.0       2.0        1.0          1  "
      ]
     },
     "execution_count": 135,
     "metadata": {},
     "output_type": "execute_result"
    }
   ],
   "source": [
    "x_train_opponent"
   ]
  },
  {
   "cell_type": "code",
   "execution_count": 136,
   "metadata": {
    "scrolled": false
   },
   "outputs": [
    {
     "data": {
      "text/plain": [
       "2456     Win\n",
       "2659     Win\n",
       "3169    Draw\n",
       "3351     Win\n",
       "3565    Lose\n",
       "3757     Win\n",
       "Name: Result, dtype: object"
      ]
     },
     "execution_count": 136,
     "metadata": {},
     "output_type": "execute_result"
    }
   ],
   "source": [
    "y_train_opponent['Result']"
   ]
  },
  {
   "cell_type": "code",
   "execution_count": 137,
   "metadata": {},
   "outputs": [
    {
     "data": {
      "text/plain": [
       "DecisionTreeClassifier(class_weight=None, criterion='entropy', max_depth=None,\n",
       "            max_features=None, max_leaf_nodes=None,\n",
       "            min_impurity_decrease=0.0, min_impurity_split=None,\n",
       "            min_samples_leaf=3, min_samples_split=2,\n",
       "            min_weight_fraction_leaf=0.0, presort=False, random_state=100,\n",
       "            splitter='best')"
      ]
     },
     "execution_count": 137,
     "metadata": {},
     "output_type": "execute_result"
    }
   ],
   "source": [
    "clf = DecisionTreeClassifier(\n",
    "    criterion=\"entropy\",\n",
    "    random_state=100,\n",
    "    min_samples_leaf=3\n",
    ")\n",
    "clf.fit(x_train_opponent, y_train_opponent)"
   ]
  },
  {
   "cell_type": "code",
   "execution_count": 138,
   "metadata": {},
   "outputs": [
    {
     "data": {
      "text/plain": [
       "66.66666666666666"
      ]
     },
     "execution_count": 138,
     "metadata": {},
     "output_type": "execute_result"
    }
   ],
   "source": [
    "# in-sample test\n",
    "y_insample_pred = clf.predict(x_train_opponent)\n",
    "accuracy_score(y_train_opponent, y_insample_pred)*100"
   ]
  },
  {
   "cell_type": "code",
   "execution_count": 139,
   "metadata": {},
   "outputs": [
    {
     "data": {
      "text/plain": [
       "16.666666666666664"
      ]
     },
     "execution_count": 139,
     "metadata": {},
     "output_type": "execute_result"
    }
   ],
   "source": [
    "# out-sample test\n",
    "y_pred = clf.predict(x_test_opponent)\n",
    "accuracy_score(y_test_opponent, y_pred)*100"
   ]
  },
  {
   "cell_type": "code",
   "execution_count": 140,
   "metadata": {},
   "outputs": [
    {
     "data": {
      "text/plain": [
       "RandomForestClassifier(bootstrap=True, class_weight=None, criterion='gini',\n",
       "            max_depth=None, max_features='auto', max_leaf_nodes=None,\n",
       "            min_impurity_decrease=0.0, min_impurity_split=None,\n",
       "            min_samples_leaf=1, min_samples_split=2,\n",
       "            min_weight_fraction_leaf=0.0, n_estimators=10, n_jobs=1,\n",
       "            oob_score=False, random_state=None, verbose=0,\n",
       "            warm_start=False)"
      ]
     },
     "execution_count": 140,
     "metadata": {},
     "output_type": "execute_result"
    }
   ],
   "source": [
    "clf = RandomForestClassifier(n_estimators=10)\n",
    "clf.fit(x_train_opponent, y_train_opponent['Result'])"
   ]
  },
  {
   "cell_type": "code",
   "execution_count": 141,
   "metadata": {},
   "outputs": [
    {
     "data": {
      "text/plain": [
       "array(['Win', 'Win', 'Draw', 'Lose', 'Lose', 'Win'], dtype=object)"
      ]
     },
     "execution_count": 141,
     "metadata": {},
     "output_type": "execute_result"
    }
   ],
   "source": [
    "# in-sample test\n",
    "y_insample_pred = clf.predict(x_train_opponent)\n",
    "y_insample_pred"
   ]
  },
  {
   "cell_type": "code",
   "execution_count": 142,
   "metadata": {},
   "outputs": [
    {
     "data": {
      "text/html": [
       "<div>\n",
       "<style scoped>\n",
       "    .dataframe tbody tr th:only-of-type {\n",
       "        vertical-align: middle;\n",
       "    }\n",
       "\n",
       "    .dataframe tbody tr th {\n",
       "        vertical-align: top;\n",
       "    }\n",
       "\n",
       "    .dataframe thead th {\n",
       "        text-align: right;\n",
       "    }\n",
       "</style>\n",
       "<table border=\"1\" class=\"dataframe\">\n",
       "  <thead>\n",
       "    <tr style=\"text-align: right;\">\n",
       "      <th></th>\n",
       "      <th>Result</th>\n",
       "    </tr>\n",
       "  </thead>\n",
       "  <tbody>\n",
       "    <tr>\n",
       "      <th>2456</th>\n",
       "      <td>Win</td>\n",
       "    </tr>\n",
       "    <tr>\n",
       "      <th>2659</th>\n",
       "      <td>Win</td>\n",
       "    </tr>\n",
       "    <tr>\n",
       "      <th>3169</th>\n",
       "      <td>Draw</td>\n",
       "    </tr>\n",
       "    <tr>\n",
       "      <th>3351</th>\n",
       "      <td>Win</td>\n",
       "    </tr>\n",
       "    <tr>\n",
       "      <th>3565</th>\n",
       "      <td>Lose</td>\n",
       "    </tr>\n",
       "    <tr>\n",
       "      <th>3757</th>\n",
       "      <td>Win</td>\n",
       "    </tr>\n",
       "  </tbody>\n",
       "</table>\n",
       "</div>"
      ],
      "text/plain": [
       "     Result\n",
       "2456    Win\n",
       "2659    Win\n",
       "3169   Draw\n",
       "3351    Win\n",
       "3565   Lose\n",
       "3757    Win"
      ]
     },
     "execution_count": 142,
     "metadata": {},
     "output_type": "execute_result"
    }
   ],
   "source": [
    "y_train_opponent"
   ]
  },
  {
   "cell_type": "code",
   "execution_count": 143,
   "metadata": {},
   "outputs": [
    {
     "data": {
      "text/plain": [
       "83.33333333333334"
      ]
     },
     "execution_count": 143,
     "metadata": {},
     "output_type": "execute_result"
    }
   ],
   "source": [
    "accuracy_score(y_train_opponent, y_insample_pred)*100"
   ]
  },
  {
   "cell_type": "code",
   "execution_count": 144,
   "metadata": {},
   "outputs": [
    {
     "data": {
      "text/plain": [
       "array(['Draw', 'Win', 'Win', 'Win', 'Win', 'Win'], dtype=object)"
      ]
     },
     "execution_count": 144,
     "metadata": {},
     "output_type": "execute_result"
    }
   ],
   "source": [
    "# out-sample test\n",
    "y_pred = clf.predict(x_test_opponent)\n",
    "y_pred"
   ]
  },
  {
   "cell_type": "code",
   "execution_count": 145,
   "metadata": {},
   "outputs": [
    {
     "data": {
      "text/html": [
       "<div>\n",
       "<style scoped>\n",
       "    .dataframe tbody tr th:only-of-type {\n",
       "        vertical-align: middle;\n",
       "    }\n",
       "\n",
       "    .dataframe tbody tr th {\n",
       "        vertical-align: top;\n",
       "    }\n",
       "\n",
       "    .dataframe thead th {\n",
       "        text-align: right;\n",
       "    }\n",
       "</style>\n",
       "<table border=\"1\" class=\"dataframe\">\n",
       "  <thead>\n",
       "    <tr style=\"text-align: right;\">\n",
       "      <th></th>\n",
       "      <th>Result</th>\n",
       "    </tr>\n",
       "  </thead>\n",
       "  <tbody>\n",
       "    <tr>\n",
       "      <th>3855</th>\n",
       "      <td>Lose</td>\n",
       "    </tr>\n",
       "    <tr>\n",
       "      <th>4046</th>\n",
       "      <td>Draw</td>\n",
       "    </tr>\n",
       "    <tr>\n",
       "      <th>4329</th>\n",
       "      <td>Lose</td>\n",
       "    </tr>\n",
       "    <tr>\n",
       "      <th>4509</th>\n",
       "      <td>Lose</td>\n",
       "    </tr>\n",
       "    <tr>\n",
       "      <th>4652</th>\n",
       "      <td>Draw</td>\n",
       "    </tr>\n",
       "    <tr>\n",
       "      <th>4849</th>\n",
       "      <td>Lose</td>\n",
       "    </tr>\n",
       "  </tbody>\n",
       "</table>\n",
       "</div>"
      ],
      "text/plain": [
       "     Result\n",
       "3855   Lose\n",
       "4046   Draw\n",
       "4329   Lose\n",
       "4509   Lose\n",
       "4652   Draw\n",
       "4849   Lose"
      ]
     },
     "execution_count": 145,
     "metadata": {},
     "output_type": "execute_result"
    }
   ],
   "source": [
    "y_test_opponent"
   ]
  },
  {
   "cell_type": "code",
   "execution_count": 146,
   "metadata": {},
   "outputs": [
    {
     "data": {
      "text/plain": [
       "0.0"
      ]
     },
     "execution_count": 146,
     "metadata": {},
     "output_type": "execute_result"
    }
   ],
   "source": [
    "accuracy_score(y_test_opponent, y_pred)*100"
   ]
  }
 ],
 "metadata": {
  "kernelspec": {
   "display_name": "Python 3",
   "language": "python",
   "name": "python3"
  },
  "language_info": {
   "codemirror_mode": {
    "name": "ipython",
    "version": 3
   },
   "file_extension": ".py",
   "mimetype": "text/x-python",
   "name": "python",
   "nbconvert_exporter": "python",
   "pygments_lexer": "ipython3",
   "version": "3.6.5"
  }
 },
 "nbformat": 4,
 "nbformat_minor": 2
}
